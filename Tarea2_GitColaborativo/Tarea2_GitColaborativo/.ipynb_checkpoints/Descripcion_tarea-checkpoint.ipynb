{
 "cells": [
  {
   "cell_type": "markdown",
   "metadata": {},
   "source": [
    "# Tarea `GitHub` colaborativo\n",
    "\n",
    "<img style=\"float: left; margin: 15px 15px 15px 15px;\" src=\"https://c1.staticflickr.com/3/2238/13158675193_2892abac95_z.jpg\" title=\"github\" width=\"180\" height=\"50\" />"
   ]
  },
  {
   "cell_type": "markdown",
   "metadata": {},
   "source": [
    "**Descripción.** La siguiente actividad es para realizarse en parejas. El objetivo es hacer un repositorio colaborativo en `GitHub` y que ambos colaboren en él de forma básica.\n",
    "\n",
    "En el resto de esta guía se tratarán a los integrantes de la pareja como **Persona 1** y **Persona 2**. La **Persona 1** será la propietaria del repositorio en `GitHub`."
   ]
  },
  {
   "cell_type": "markdown",
   "metadata": {},
   "source": [
    "___\n",
    "## 1. Primera parte: creación del proyecto en `GitHub`\n",
    "La **Persona 1** deberá ingresar a su cuenta de `GitHub`. Estando allí, en la esquina superior derecha picar en el ícono `+` y picar en *New repository*.\n",
    "\n",
    "<img style=\"float: left; margin: 15px 15px 15px 15px;\" src=\"pic1.png\" title=\"pic1\" width=\"800\" height=\"200\" />"
   ]
  },
  {
   "cell_type": "markdown",
   "metadata": {},
   "source": [
    "Una vez allí, darle el nombre `tarea_colaborativo` y en la descripción escribir `Este repositorio será utilizado para realizar la tarea de GitHub colaborativo.`\n",
    "\n",
    "Dar en la opción *Initialize this repository with a README* y finalmente picar en *Create repository*.\n",
    "\n",
    "<img style=\"float: left; margin: 15px 15px 15px 15px;\" src=\"pic2.png\" title=\"pic2\" width=\"800\" height=\"200\" />"
   ]
  },
  {
   "cell_type": "markdown",
   "metadata": {},
   "source": [
    "Una vez se haga esto, debería aparecer algo similar a la siguiente imagen:\n",
    "\n",
    "<img style=\"float: left; margin: 15px 15px 15px 15px;\" src=\"pic3.png\" title=\"pic3\" width=\"800\" height=\"200\" />"
   ]
  },
  {
   "cell_type": "markdown",
   "metadata": {},
   "source": [
    "Notar que el repositorio quedó guardado en la url https://github.com/cuenta_persona1/tarea_colaborativo, donde <font color=blue>cuenta_persona1</font> es el nombre de usuario en GitHub de la **Persona 1**."
   ]
  },
  {
   "cell_type": "markdown",
   "metadata": {},
   "source": [
    "___\n",
    "## 2. Segunda parte: bifurcar el proyecto desde la otra cuenta\n",
    "La **Persona 2** deberá ingresar a su cuenta de `GitHub` e ingresar al repositorio https://github.com/cuenta_persona1/tarea_colaborativo. Estando allí, en la esquina superior derecha picar en el ícono *Fork*.\n",
    "\n",
    "<img style=\"float: left; margin: 15px 15px 15px 15px;\" src=\"pic4.png\" title=\"pic4\" width=\"800\" height=\"200\" />"
   ]
  },
  {
   "cell_type": "markdown",
   "metadata": {},
   "source": [
    "Se debe esperar unos momentos, y una vez se culmine el proceso se debe tener el proyecto copiado en la cuenta de la **Persona 2**. Es decir, se debe tener el repositorio https://github.com/cuenta_persona2/tarea_colaborativo, donde <font color=blue>cuenta_persona2</font> es el nombre de usuario en GitHub de la **Persona 2**.\n",
    "\n",
    "<img style=\"float: left; margin: 15px 15px 15px 15px;\" src=\"pic5.png\" title=\"pic5\" width=\"800\" height=\"200\" />"
   ]
  },
  {
   "cell_type": "markdown",
   "metadata": {},
   "source": [
    "___\n",
    "## 3. Tercera parte: clonar para tener el repositorio local\n",
    "Esta parte es común a ambas personas. Deben abrir `GitKraken`, ir a la esquina superior izquierda y picar en el ícono de carpeta.\n",
    "- Picar en *Clone*.\n",
    "- Picar en *GitHub.com*.\n",
    "- En donde dice *Where to clone*, poner el directorio (carpeta) donde quiera que sea clonado el repositorio.\n",
    "- Picar en `tarea_colaborativo` y finalmente en *Clone the repo!*.\n",
    "\n",
    "<img style=\"float: left; margin: 15px 15px 15px 15px;\" src=\"pic6.png\" title=\"pic6\" width=\"800\" height=\"200\" />"
   ]
  },
  {
   "cell_type": "markdown",
   "metadata": {},
   "source": [
    "En la parte superior centro, picar en donde dice *Open now*.\n",
    "\n",
    "<img style=\"float: left; margin: 15px 15px 15px 15px;\" src=\"pic7.png\" title=\"pic7\" width=\"800\" height=\"200\" />"
   ]
  },
  {
   "cell_type": "markdown",
   "metadata": {},
   "source": [
    "Les debe aparecer en `GitKraken` algo como lo siguiente\n",
    "\n",
    "<img style=\"float: left; margin: 15px 15px 15px 15px;\" src=\"pic8.png\" title=\"pic8\" width=\"800\" height=\"200\" />"
   ]
  },
  {
   "cell_type": "markdown",
   "metadata": {},
   "source": [
    "___\n",
    "## 4. Cuarta parte: agregar el repositorio remoto de la otra persona\n",
    "En el panel izquierdo, al lado de donde dice *REMOTE*, picar en el *+*.\n",
    "\n",
    "<img style=\"float: left; margin: 15px 15px 15px 15px;\" src=\"pic9.png\" title=\"pic9\" width=\"800\" height=\"200\" />"
   ]
  },
  {
   "cell_type": "markdown",
   "metadata": {},
   "source": [
    "En `GitHub Repo` seleccionar *cuenta_persona_contraria/tarea_colaborativo*, donde <font color = blue>cuenta_persona_contraria</font> es la cuenta de la otra persona.\n",
    "\n",
    "Dejar el nombre que aparece por defecto y picar en *Add Remote*.\n",
    "\n",
    "<img style=\"float: left; margin: 15px 15px 15px 15px;\" src=\"pic10.png\" title=\"pic10\" width=\"800\" height=\"200\" />"
   ]
  },
  {
   "cell_type": "markdown",
   "metadata": {
    "collapsed": true
   },
   "source": [
    "En el panel izquierdo, debajo de donde dice *REMOTE*, debería aparecer agregado el repositorio remoto de la otra persona.\n",
    "\n",
    "<img style=\"float: left; margin: 15px 15px 15px 15px;\" src=\"pic11.png\" title=\"pic11\" width=\"800\" height=\"200\" />"
   ]
  },
  {
   "cell_type": "markdown",
   "metadata": {},
   "source": [
    "___\n",
    "## 5. Quinta parte: modificación por parte de la Persona 1\n",
    "Ir al directorio local donde está el repositorio *tarea_colaborativo*. Crear un archivo de texto plano (extensión .txt, en windows con el bloc de notas) llamado `Archivo de modificaciones`.\n",
    "\n",
    "<img style=\"float: left; margin: 15px 15px 15px 15px;\" src=\"pic12.png\" title=\"pic12\" width=\"800\" height=\"200\" />"
   ]
  },
  {
   "cell_type": "markdown",
   "metadata": {},
   "source": [
    "Una vez creado el archivo, abrirlo y escribir el siguiente mensaje: \n",
    "\n",
    "\"Este archivo será utilizado para emular modificaciones en el proyecto colaborativo.\n",
    "\n",
    "Nombre_Persona_1.\"\n",
    "\n",
    "En este caso <font color=blue>Nombre_Persona_1</font> es el nombre de la Persona 1.\n",
    "\n",
    "<img style=\"float: left; margin: 15px 15px 15px 15px;\" src=\"pic13.png\" title=\"pic13\" width=\"800\" height=\"200\" />"
   ]
  },
  {
   "cell_type": "markdown",
   "metadata": {},
   "source": [
    "Guardar y cerrar el anterior archivo. En `GitKraken`, en el panel del lado derecho picar en *Stage all changes*, luego escribir en *Summary* el mensaje \"Añadir Archivo de modificaciones\" y finalmente picar en *Commit changes to 1 file*\n",
    "\n",
    "<img style=\"float: left; margin: 15px 15px 15px 15px;\" src=\"pic14.png\" title=\"pic14\" width=\"800\" height=\"200\" />"
   ]
  },
  {
   "cell_type": "markdown",
   "metadata": {},
   "source": [
    "Para terminar, en la parte superior picar en *Push* para actualizar el repositorio remoto cuenta_persona1/tarea_colaborativo.\n",
    "\n",
    "<img style=\"float: left; margin: 15px 15px 15px 15px;\" src=\"pic15.png\" title=\"pic15\" width=\"800\" height=\"200\" />"
   ]
  },
  {
   "cell_type": "markdown",
   "metadata": {},
   "source": [
    "En la cuenta `GitHub` de la **Persona 1** (https://github.com/cuenta_persona1/tarea_colaborativo) debería tenerse algo como lo siguiente\n",
    "\n",
    "<img style=\"float: left; margin: 15px 15px 15px 15px;\" src=\"pic16.png\" title=\"pic16\" width=\"800\" height=\"200\" />"
   ]
  },
  {
   "cell_type": "markdown",
   "metadata": {},
   "source": [
    "___\n",
    "## 6. Sexta parte: actualización y modificación por parte de la Persona 2\n",
    "Para la **Persona 2** en `GitKraken` se debería tener una imagen como la siguiente, mostrando que el repositorio remoto https://github.com/cuenta_persona1/tarea_colaborativo de la **Persona 1** está un paso más adelante.\n",
    "\n",
    "<img style=\"float: left; margin: 15px 15px 15px 15px;\" src=\"pic17.png\" title=\"pic17\" width=\"800\" height=\"200\" />"
   ]
  },
  {
   "cell_type": "markdown",
   "metadata": {},
   "source": [
    "Actualizar el repositorio local arrastrando un ícono de master sobre otro, y picando en la opción *Merge cuenta_persona1/master into master*. Debería obtenerse algo como lo siguiente\n",
    "\n",
    "<img style=\"float: left; margin: 15px 15px 15px 15px;\" src=\"pic18.png\" title=\"pic18\" width=\"800\" height=\"200\" />"
   ]
  },
  {
   "cell_type": "markdown",
   "metadata": {},
   "source": [
    "Ir al directorio local donde está el repositorio *tarea_colaborativo*, abrir `Archivo de modificaciones` y escribir el siguiente mensaje\n",
    "\n",
    "\"Nombre_Persona 2.\n",
    "\n",
    "El repositorio remoto actualizado se puede encontrar en las url's\n",
    "\n",
    "https://github.com/cuenta_persona1/tarea_colaborativo\n",
    "\n",
    "https://github.com/cuenta_persona2/tarea_colaborativo\"\n",
    "\n",
    "donde <font color=blue>cuenta_persona1</font> y <font color=blue>cuenta_persona2</font> son las cuentas de `GitHub` de la **Persona 1** y la **Persona 2**, respectivamente.\n",
    "\n",
    "<img style=\"float: left; margin: 15px 15px 15px 15px;\" src=\"pic19.png\" title=\"pic19\" width=\"800\" height=\"200\" />"
   ]
  },
  {
   "cell_type": "markdown",
   "metadata": {},
   "source": [
    "Guardar y cerrar el anterior archivo. En GitKraken, en el panel del lado derecho picar en Stage all changes, luego escribir en Summary el mensaje \"Modificar Archivo de modificaciones\" y finalmente picar en Commit changes to 1 file.\n",
    "\n",
    "Se debería tener en `GitKraken` algo como lo siguiente.\n",
    "\n",
    "<img style=\"float: left; margin: 15px 15px 15px 15px;\" src=\"pic20.png\" title=\"pic20\" width=\"800\" height=\"200\" />"
   ]
  },
  {
   "cell_type": "markdown",
   "metadata": {},
   "source": [
    "Finalmente, en la parte superior picar en *Push* para actualizar el repositorio remoto cuenta_persona2/tarea_colaborativo."
   ]
  },
  {
   "cell_type": "code",
   "execution_count": null,
   "metadata": {
    "collapsed": true
   },
   "outputs": [],
   "source": []
  }
 ],
 "metadata": {
  "kernelspec": {
   "display_name": "Python 3",
   "language": "python",
   "name": "python3"
  },
  "language_info": {
   "codemirror_mode": {
    "name": "ipython",
    "version": 3
   },
   "file_extension": ".py",
   "mimetype": "text/x-python",
   "name": "python",
   "nbconvert_exporter": "python",
   "pygments_lexer": "ipython3",
   "version": "3.6.2"
  }
 },
 "nbformat": 4,
 "nbformat_minor": 2
}
