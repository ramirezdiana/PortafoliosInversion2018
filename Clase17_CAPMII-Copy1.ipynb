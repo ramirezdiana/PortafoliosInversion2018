{
 "cells": [
  {
   "cell_type": "markdown",
   "metadata": {},
   "source": [
    "# Estimando $\\beta$ de los activos"
   ]
  },
  {
   "cell_type": "markdown",
   "metadata": {},
   "source": [
    "## <font color=green> Conclusiones de la lectura. </font>"
   ]
  },
  {
   "cell_type": "markdown",
   "metadata": {},
   "source": [
    "<img style=\"float: right; margin: 0px 0px 15px 15px;\" src=\"https://upload.wikimedia.org/wikipedia/commons/4/48/Capital_market_line_of_CAPM.svg\" width=\"400px\" height=\"400px\" />\n",
    "\n",
    "En la clase anterior aprendimos \n",
    "- ¿qué es el CAPM?; \n",
    "- ¿cuáles son los supuestos sobre los que se funda el CAPM?;\n",
    "- derivamos la fórmula del CAPM; y\n",
    "- aprendimos como obtener la $\\beta$ de un portafolio a partir de la $\\beta$ de activos individuales.\n",
    "\n",
    "En la clase de hoy estudiaremos una forma de estimar los $\\beta$ de activos individuales.\n",
    "\n",
    "**Objetivos:**\n",
    "- Revisitar riesgo sistemático y no sistemático.\n",
    "- Estudiar un método para estimar las $\\beta$ de los activos.\n",
    "\n",
    "*Referencia:*\n",
    "- Notas del curso \"Portfolio Selection and Risk Management\", Rice University, disponible en Coursera.\n",
    "- [Notas del curso \"Financial Engineering\", Columbia University](http://www.columbia.edu/~ks20/FE-Notes/FE-Notes-Sigman.html)\n",
    "___"
   ]
  },
  {
   "cell_type": "markdown",
   "metadata": {},
   "source": [
    "## 1. Riesgo sistemático y no sistemático."
   ]
  },
  {
   "cell_type": "markdown",
   "metadata": {},
   "source": [
    "Recordamos la fórmula de CAPM:\n",
    "\n",
    "$$E[r_i]-r_f=\\beta_i(E[r_M]-r_f),$$\n",
    "\n",
    "donde $\\beta_i=\\frac{\\sigma_{M,i}}{\\sigma_M^2}$ y $\\sigma_{M,i}$ es la covarianza del portafolio de mercado con el activo individual $i$."
   ]
  },
  {
   "cell_type": "markdown",
   "metadata": {},
   "source": [
    "Todas las anteriores son variables determinísiticas.\n",
    "\n",
    "- ¿Qué pasa si usamos el CAPM como un modelo de rendimientos? Es decir,\n",
    "\n",
    "$$r_i=r_f+\\beta_i(r_M-r_f)+\\epsilon_i,$$\n",
    "\n",
    "donde $\\epsilon_i$ es un término de error."
   ]
  },
  {
   "cell_type": "markdown",
   "metadata": {},
   "source": [
    "<font color=green> Despejando $\\epsilon_i$, tenemos que: </font>\n",
    "\n",
    "- $E[\\epsilon_i]=0$, y\n",
    "- $cov(\\epsilon_i,r_M)=0$.\n",
    "\n",
    "<font color=green> Ver en el tablero. </font>"
   ]
  },
  {
   "cell_type": "markdown",
   "metadata": {},
   "source": [
    "Entonces, la varianza del activo $i$ es:\n",
    "\n",
    "$$\\sigma_i=\\beta_i^2\\sigma_M^2+var(\\epsilon_i),$$\n",
    "\n",
    "donde el primer término corresponde al riesgo sistemático (de mercado) y el segundo al riesgo idiosincrático.\n",
    "___"
   ]
  },
  {
   "cell_type": "markdown",
   "metadata": {},
   "source": [
    "## 2. Estimando $\\beta$ para un activo."
   ]
  },
  {
   "cell_type": "markdown",
   "metadata": {},
   "source": [
    "- En el mercado real, la cantidad de activos es ENORME, y tratar de construir el portafolio de mercado sería una tarea grandiosa, pero poco realista para un analista financiero. \n",
    "- Por lo tanto, los índices de mercado han sido creados para intentar aproximar el portafolio de mercado.\n",
    "- Dicho índice es un portafolio más pequeño que el de mercado, construido por los que se consideran los activos más dominantes, y que capturan la esencia de el portafolio de mercado."
   ]
  },
  {
   "cell_type": "markdown",
   "metadata": {},
   "source": [
    "- El índice de mercado más conocido es el Standard & Poor’s 500-stock index (S&P), compuesto de 500 activos.\n",
    "- Un $\\beta$ para un activo dado, se puede estimar utilizando el S&P en reemplazo de M, y utilizando datos históricos para ambos rendimientos (el del activo y el del S&P500).\n",
    "- Por ejemplo, considere un activo $i$ para el cual queremos estimar su $\\beta_i$.\n",
    "- Este estimado se construye usando medias, varianzas y covarianzas muestrales como sigue:\n",
    " - Escogemos $N$ rendimientos históricos, tales como los reportados mensualmente hace tres años.\n",
    " - Para $k=1,2,\\dots,N$, $r_{ik}$ y $r_{S\\&Pk}$ denotan el $k-$ésimo valor muestral de los rendimietos.\n",
    "\n",
    "Entonces\n",
    "\n",
    "$$\\hat{E[r_i]}=\\frac{1}{N}\\sum_{k=1}^{N}r_{ik}, \\text{ y}$$\n",
    "\n",
    "$$\\hat{E[r_{S\\&P}]}=\\frac{1}{N}\\sum_{k=1}^{N}r_{S\\&Pk}.$$"
   ]
  },
  {
   "cell_type": "markdown",
   "metadata": {},
   "source": [
    "Además, la varianza $\\sigma_{S\\&P}^2$ se estima como\n",
    "\n",
    "$$\\hat{\\sigma_{S\\&P}^2}=\\frac{1}{N-1}\\sum_{k=1}^{N}(r_{S\\&Pk}-\\hat{E[r_{S\\&P}]})^2,$$\n",
    "\n",
    "y la covarianza $\\sigma_{S\\&P,i}$\n",
    "\n",
    "$$\\hat{\\sigma_{S\\&P,i}}=\\frac{1}{N-1}\\sum_{k=1}^{N}(r_{S\\&Pk}-\\hat{E[r_{S\\&P}]})(r_{ik}-\\hat{E[r_i]})$$"
   ]
  },
  {
   "cell_type": "markdown",
   "metadata": {},
   "source": [
    "Finalmente, \n",
    "\n",
    "$$\\hat{\\beta_i}=\\frac{\\hat{\\sigma_{S\\&P,i}}}{\\hat{\\sigma_{S\\&P}^2}}.$$"
   ]
  },
  {
   "cell_type": "markdown",
   "metadata": {},
   "source": [
    "### Ejemplo...\n",
    "\n",
    "Entrar a yahoo finance, a la información de MSFT, AAPL, GCARSOA1.MX y ^GSPC."
   ]
  },
  {
   "cell_type": "code",
   "execution_count": 1,
   "metadata": {},
   "outputs": [],
   "source": [
    "# Importar paquetes\n",
    "import numpy as np\n",
    "import matplotlib.pyplot as plt\n",
    "%matplotlib inline\n",
    "import pandas as pd\n",
    "pd.core.common.is_list_like = pd.api.types.is_list_like\n",
    "import pandas_datareader.data as web"
   ]
  },
  {
   "cell_type": "code",
   "execution_count": 2,
   "metadata": {},
   "outputs": [],
   "source": [
    "# Función para descargar precios de cierre ajustados de varios activos a la vez:\n",
    "def get_closes(tickers, start_date=None, end_date=None, freq=None):\n",
    "    # Fecha inicio por defecto (start_date='2010-01-01') y fecha fin por defecto (end_date=today)\n",
    "    # Frecuencia de muestreo por defecto (freq='d')\n",
    "    # Importamos paquetes necesarios\n",
    "    import pandas as pd\n",
    "    pd.core.common.is_list_like = pd.api.types.is_list_like\n",
    "    import pandas_datareader.data as web  \n",
    "    # Creamos DataFrame vacío de precios, con el índice de las fechas\n",
    "    closes = pd.DataFrame(columns = tickers, index=web.YahooDailyReader(symbols=tickers[0], start=start_date, end=end_date, interval=freq).read().index)\n",
    "    # Agregamos cada uno de los precios con YahooDailyReader\n",
    "    for ticker in tickers:\n",
    "        df = web.YahooDailyReader(symbols=ticker, start=start_date, end=end_date, interval=freq).read()\n",
    "        closes[ticker]=df['Adj Close']\n",
    "    closes.index_name = 'Date'\n",
    "    closes = closes.sort_index()\n",
    "    return closes"
   ]
  },
  {
   "cell_type": "code",
   "execution_count": 3,
   "metadata": {},
   "outputs": [],
   "source": [
    "# Importar datos de AAPL, MSFT, GCARSOA1.MX, y ^GSPC\n",
    "names=['AAPL','MSFT','GCARSOA1.MX','^GSPC']\n",
    "start_date='2015-11-01'\n",
    "end_date='2018-11-07'"
   ]
  },
  {
   "cell_type": "code",
   "execution_count": 5,
   "metadata": {
    "scrolled": true
   },
   "outputs": [
    {
     "data": {
      "text/html": [
       "<div>\n",
       "<style scoped>\n",
       "    .dataframe tbody tr th:only-of-type {\n",
       "        vertical-align: middle;\n",
       "    }\n",
       "\n",
       "    .dataframe tbody tr th {\n",
       "        vertical-align: top;\n",
       "    }\n",
       "\n",
       "    .dataframe thead th {\n",
       "        text-align: right;\n",
       "    }\n",
       "</style>\n",
       "<table border=\"1\" class=\"dataframe\">\n",
       "  <thead>\n",
       "    <tr style=\"text-align: right;\">\n",
       "      <th></th>\n",
       "      <th>AAPL</th>\n",
       "      <th>MSFT</th>\n",
       "      <th>GCARSOA1.MX</th>\n",
       "      <th>^GSPC</th>\n",
       "    </tr>\n",
       "    <tr>\n",
       "      <th>Date</th>\n",
       "      <th></th>\n",
       "      <th></th>\n",
       "      <th></th>\n",
       "      <th></th>\n",
       "    </tr>\n",
       "  </thead>\n",
       "  <tbody>\n",
       "    <tr>\n",
       "      <th>2015-11-01</th>\n",
       "      <td>112.120659</td>\n",
       "      <td>50.740330</td>\n",
       "      <td>70.638725</td>\n",
       "      <td>2080.409912</td>\n",
       "    </tr>\n",
       "    <tr>\n",
       "      <th>2015-12-01</th>\n",
       "      <td>100.188835</td>\n",
       "      <td>52.144402</td>\n",
       "      <td>68.300453</td>\n",
       "      <td>2043.939941</td>\n",
       "    </tr>\n",
       "    <tr>\n",
       "      <th>2016-01-01</th>\n",
       "      <td>92.650391</td>\n",
       "      <td>51.777847</td>\n",
       "      <td>70.157600</td>\n",
       "      <td>1940.239990</td>\n",
       "    </tr>\n",
       "    <tr>\n",
       "      <th>2016-02-01</th>\n",
       "      <td>92.031723</td>\n",
       "      <td>47.820961</td>\n",
       "      <td>70.475136</td>\n",
       "      <td>1932.229980</td>\n",
       "    </tr>\n",
       "    <tr>\n",
       "      <th>2016-03-01</th>\n",
       "      <td>104.302032</td>\n",
       "      <td>52.282135</td>\n",
       "      <td>77.528427</td>\n",
       "      <td>2059.739990</td>\n",
       "    </tr>\n",
       "    <tr>\n",
       "      <th>2016-04-01</th>\n",
       "      <td>89.707985</td>\n",
       "      <td>47.208221</td>\n",
       "      <td>79.164253</td>\n",
       "      <td>2065.300049</td>\n",
       "    </tr>\n",
       "    <tr>\n",
       "      <th>2016-05-01</th>\n",
       "      <td>95.564751</td>\n",
       "      <td>50.171154</td>\n",
       "      <td>75.151665</td>\n",
       "      <td>2096.949951</td>\n",
       "    </tr>\n",
       "    <tr>\n",
       "      <th>2016-06-01</th>\n",
       "      <td>92.045006</td>\n",
       "      <td>48.777630</td>\n",
       "      <td>75.522438</td>\n",
       "      <td>2098.860107</td>\n",
       "    </tr>\n",
       "    <tr>\n",
       "      <th>2016-07-01</th>\n",
       "      <td>100.334824</td>\n",
       "      <td>54.030018</td>\n",
       "      <td>74.099861</td>\n",
       "      <td>2173.600098</td>\n",
       "    </tr>\n",
       "    <tr>\n",
       "      <th>2016-08-01</th>\n",
       "      <td>102.154556</td>\n",
       "      <td>54.773552</td>\n",
       "      <td>74.148247</td>\n",
       "      <td>2170.949951</td>\n",
       "    </tr>\n",
       "    <tr>\n",
       "      <th>2016-09-01</th>\n",
       "      <td>109.435753</td>\n",
       "      <td>55.249226</td>\n",
       "      <td>74.980507</td>\n",
       "      <td>2168.270020</td>\n",
       "    </tr>\n",
       "    <tr>\n",
       "      <th>2016-10-01</th>\n",
       "      <td>109.910080</td>\n",
       "      <td>57.474541</td>\n",
       "      <td>79.838562</td>\n",
       "      <td>2126.149902</td>\n",
       "    </tr>\n",
       "    <tr>\n",
       "      <th>2016-11-01</th>\n",
       "      <td>106.986641</td>\n",
       "      <td>57.800663</td>\n",
       "      <td>74.036072</td>\n",
       "      <td>2198.810059</td>\n",
       "    </tr>\n",
       "    <tr>\n",
       "      <th>2016-12-01</th>\n",
       "      <td>112.692825</td>\n",
       "      <td>60.006588</td>\n",
       "      <td>81.664452</td>\n",
       "      <td>2238.830078</td>\n",
       "    </tr>\n",
       "    <tr>\n",
       "      <th>2017-01-01</th>\n",
       "      <td>118.073517</td>\n",
       "      <td>62.430424</td>\n",
       "      <td>81.537964</td>\n",
       "      <td>2278.870117</td>\n",
       "    </tr>\n",
       "    <tr>\n",
       "      <th>2017-02-01</th>\n",
       "      <td>133.291245</td>\n",
       "      <td>61.783424</td>\n",
       "      <td>82.948822</td>\n",
       "      <td>2363.639893</td>\n",
       "    </tr>\n",
       "    <tr>\n",
       "      <th>2017-03-01</th>\n",
       "      <td>140.387177</td>\n",
       "      <td>63.984440</td>\n",
       "      <td>83.639648</td>\n",
       "      <td>2362.719971</td>\n",
       "    </tr>\n",
       "    <tr>\n",
       "      <th>2017-04-01</th>\n",
       "      <td>140.377380</td>\n",
       "      <td>66.510399</td>\n",
       "      <td>84.194267</td>\n",
       "      <td>2384.199951</td>\n",
       "    </tr>\n",
       "    <tr>\n",
       "      <th>2017-05-01</th>\n",
       "      <td>149.279861</td>\n",
       "      <td>67.851097</td>\n",
       "      <td>76.351830</td>\n",
       "      <td>2411.800049</td>\n",
       "    </tr>\n",
       "    <tr>\n",
       "      <th>2017-06-01</th>\n",
       "      <td>141.319901</td>\n",
       "      <td>67.350868</td>\n",
       "      <td>74.366898</td>\n",
       "      <td>2423.409912</td>\n",
       "    </tr>\n",
       "    <tr>\n",
       "      <th>2017-07-01</th>\n",
       "      <td>145.941574</td>\n",
       "      <td>71.034500</td>\n",
       "      <td>72.656860</td>\n",
       "      <td>2470.300049</td>\n",
       "    </tr>\n",
       "    <tr>\n",
       "      <th>2017-08-01</th>\n",
       "      <td>160.925293</td>\n",
       "      <td>73.057076</td>\n",
       "      <td>70.709290</td>\n",
       "      <td>2471.649902</td>\n",
       "    </tr>\n",
       "    <tr>\n",
       "      <th>2017-09-01</th>\n",
       "      <td>151.824387</td>\n",
       "      <td>73.171272</td>\n",
       "      <td>70.249321</td>\n",
       "      <td>2519.360107</td>\n",
       "    </tr>\n",
       "    <tr>\n",
       "      <th>2017-10-01</th>\n",
       "      <td>166.522171</td>\n",
       "      <td>81.707436</td>\n",
       "      <td>60.854034</td>\n",
       "      <td>2575.260010</td>\n",
       "    </tr>\n",
       "    <tr>\n",
       "      <th>2017-11-01</th>\n",
       "      <td>169.290329</td>\n",
       "      <td>82.679909</td>\n",
       "      <td>58.084385</td>\n",
       "      <td>2584.840088</td>\n",
       "    </tr>\n",
       "    <tr>\n",
       "      <th>2017-12-01</th>\n",
       "      <td>167.308640</td>\n",
       "      <td>84.447639</td>\n",
       "      <td>64.469643</td>\n",
       "      <td>2673.610107</td>\n",
       "    </tr>\n",
       "    <tr>\n",
       "      <th>2018-01-01</th>\n",
       "      <td>165.529068</td>\n",
       "      <td>93.796707</td>\n",
       "      <td>65.085251</td>\n",
       "      <td>2823.810059</td>\n",
       "    </tr>\n",
       "    <tr>\n",
       "      <th>2018-02-01</th>\n",
       "      <td>176.097702</td>\n",
       "      <td>92.572540</td>\n",
       "      <td>65.720711</td>\n",
       "      <td>2713.830078</td>\n",
       "    </tr>\n",
       "    <tr>\n",
       "      <th>2018-03-01</th>\n",
       "      <td>166.551392</td>\n",
       "      <td>90.527733</td>\n",
       "      <td>63.576023</td>\n",
       "      <td>2640.870117</td>\n",
       "    </tr>\n",
       "    <tr>\n",
       "      <th>2018-04-01</th>\n",
       "      <td>164.049835</td>\n",
       "      <td>92.759430</td>\n",
       "      <td>66.723549</td>\n",
       "      <td>2648.050049</td>\n",
       "    </tr>\n",
       "    <tr>\n",
       "      <th>2018-05-01</th>\n",
       "      <td>185.501602</td>\n",
       "      <td>98.036163</td>\n",
       "      <td>61.729210</td>\n",
       "      <td>2705.270020</td>\n",
       "    </tr>\n",
       "    <tr>\n",
       "      <th>2018-06-01</th>\n",
       "      <td>184.463074</td>\n",
       "      <td>98.231979</td>\n",
       "      <td>66.574615</td>\n",
       "      <td>2718.370117</td>\n",
       "    </tr>\n",
       "    <tr>\n",
       "      <th>2018-07-01</th>\n",
       "      <td>189.624954</td>\n",
       "      <td>105.673340</td>\n",
       "      <td>77.510002</td>\n",
       "      <td>2816.290039</td>\n",
       "    </tr>\n",
       "    <tr>\n",
       "      <th>2018-08-01</th>\n",
       "      <td>226.834473</td>\n",
       "      <td>111.899384</td>\n",
       "      <td>70.699997</td>\n",
       "      <td>2901.520020</td>\n",
       "    </tr>\n",
       "    <tr>\n",
       "      <th>2018-09-01</th>\n",
       "      <td>225.740005</td>\n",
       "      <td>114.370003</td>\n",
       "      <td>62.070000</td>\n",
       "      <td>2913.979980</td>\n",
       "    </tr>\n",
       "    <tr>\n",
       "      <th>2018-10-01</th>\n",
       "      <td>218.860001</td>\n",
       "      <td>106.809998</td>\n",
       "      <td>59.779999</td>\n",
       "      <td>2711.739990</td>\n",
       "    </tr>\n",
       "    <tr>\n",
       "      <th>2018-11-01</th>\n",
       "      <td>203.770004</td>\n",
       "      <td>107.720001</td>\n",
       "      <td>62.650002</td>\n",
       "      <td>2755.449951</td>\n",
       "    </tr>\n",
       "    <tr>\n",
       "      <th>2018-11-07</th>\n",
       "      <td>207.759995</td>\n",
       "      <td>111.864998</td>\n",
       "      <td>62.959999</td>\n",
       "      <td>2800.820068</td>\n",
       "    </tr>\n",
       "  </tbody>\n",
       "</table>\n",
       "</div>"
      ],
      "text/plain": [
       "                  AAPL        MSFT  GCARSOA1.MX        ^GSPC\n",
       "Date                                                        \n",
       "2015-11-01  112.120659   50.740330    70.638725  2080.409912\n",
       "2015-12-01  100.188835   52.144402    68.300453  2043.939941\n",
       "2016-01-01   92.650391   51.777847    70.157600  1940.239990\n",
       "2016-02-01   92.031723   47.820961    70.475136  1932.229980\n",
       "2016-03-01  104.302032   52.282135    77.528427  2059.739990\n",
       "2016-04-01   89.707985   47.208221    79.164253  2065.300049\n",
       "2016-05-01   95.564751   50.171154    75.151665  2096.949951\n",
       "2016-06-01   92.045006   48.777630    75.522438  2098.860107\n",
       "2016-07-01  100.334824   54.030018    74.099861  2173.600098\n",
       "2016-08-01  102.154556   54.773552    74.148247  2170.949951\n",
       "2016-09-01  109.435753   55.249226    74.980507  2168.270020\n",
       "2016-10-01  109.910080   57.474541    79.838562  2126.149902\n",
       "2016-11-01  106.986641   57.800663    74.036072  2198.810059\n",
       "2016-12-01  112.692825   60.006588    81.664452  2238.830078\n",
       "2017-01-01  118.073517   62.430424    81.537964  2278.870117\n",
       "2017-02-01  133.291245   61.783424    82.948822  2363.639893\n",
       "2017-03-01  140.387177   63.984440    83.639648  2362.719971\n",
       "2017-04-01  140.377380   66.510399    84.194267  2384.199951\n",
       "2017-05-01  149.279861   67.851097    76.351830  2411.800049\n",
       "2017-06-01  141.319901   67.350868    74.366898  2423.409912\n",
       "2017-07-01  145.941574   71.034500    72.656860  2470.300049\n",
       "2017-08-01  160.925293   73.057076    70.709290  2471.649902\n",
       "2017-09-01  151.824387   73.171272    70.249321  2519.360107\n",
       "2017-10-01  166.522171   81.707436    60.854034  2575.260010\n",
       "2017-11-01  169.290329   82.679909    58.084385  2584.840088\n",
       "2017-12-01  167.308640   84.447639    64.469643  2673.610107\n",
       "2018-01-01  165.529068   93.796707    65.085251  2823.810059\n",
       "2018-02-01  176.097702   92.572540    65.720711  2713.830078\n",
       "2018-03-01  166.551392   90.527733    63.576023  2640.870117\n",
       "2018-04-01  164.049835   92.759430    66.723549  2648.050049\n",
       "2018-05-01  185.501602   98.036163    61.729210  2705.270020\n",
       "2018-06-01  184.463074   98.231979    66.574615  2718.370117\n",
       "2018-07-01  189.624954  105.673340    77.510002  2816.290039\n",
       "2018-08-01  226.834473  111.899384    70.699997  2901.520020\n",
       "2018-09-01  225.740005  114.370003    62.070000  2913.979980\n",
       "2018-10-01  218.860001  106.809998    59.779999  2711.739990\n",
       "2018-11-01  203.770004  107.720001    62.650002  2755.449951\n",
       "2018-11-07  207.759995  111.864998    62.959999  2800.820068"
      ]
     },
     "execution_count": 5,
     "metadata": {},
     "output_type": "execute_result"
    }
   ],
   "source": [
    "# Precios mensuales\n",
    "monthly_closes=get_closes(names,start_date=start_date,end_date=end_date,freq='m')\n",
    "monthly_closes"
   ]
  },
  {
   "cell_type": "code",
   "execution_count": 6,
   "metadata": {
    "scrolled": true
   },
   "outputs": [],
   "source": [
    "# Rendimientos mensuales\n",
    "monthly_ret=monthly_closes.pct_change().dropna()"
   ]
  },
  {
   "cell_type": "code",
   "execution_count": 10,
   "metadata": {},
   "outputs": [],
   "source": [
    "# Matriz de covarianza\n",
    "cov=monthly_ret.cov()"
   ]
  },
  {
   "cell_type": "code",
   "execution_count": 11,
   "metadata": {},
   "outputs": [
    {
     "data": {
      "text/plain": [
       "1.074975980589318"
      ]
     },
     "execution_count": 11,
     "metadata": {},
     "output_type": "execute_result"
    }
   ],
   "source": [
    "# Beta de Microsoft\n",
    "beta_MSFT=cov['MSFT']['^GSPC']/cov['^GSPC']['^GSPC']\n",
    "np.round(beta_MSFT,2)"
   ]
  },
  {
   "cell_type": "code",
   "execution_count": 12,
   "metadata": {},
   "outputs": [
    {
     "data": {
      "text/plain": [
       "1.1232978097530655"
      ]
     },
     "execution_count": 12,
     "metadata": {},
     "output_type": "execute_result"
    }
   ],
   "source": [
    "# Beta de Apple\n",
    "beta_AAPL=cov['AAPL']['^GSPC']/cov['^GSPC']['^GSPC']\n",
    "np.round(beta_AAPL,2)"
   ]
  },
  {
   "cell_type": "code",
   "execution_count": 14,
   "metadata": {},
   "outputs": [
    {
     "data": {
      "text/plain": [
       "0.33"
      ]
     },
     "execution_count": 14,
     "metadata": {},
     "output_type": "execute_result"
    }
   ],
   "source": [
    "# Beta de Grupo Carso\n",
    "beta_GCARSO=cov['GCARSOA1.MX']['^GSPC']/cov['^GSPC']['^GSPC']\n",
    "np.round(beta_GCARSO,2)"
   ]
  },
  {
   "cell_type": "markdown",
   "metadata": {},
   "source": [
    "**Conclusiones**\n",
    "\n",
    "[Índice para México](https://espanol.spindices.com/indices/equity/sp-bmv-ipc)"
   ]
  },
  {
   "cell_type": "markdown",
   "metadata": {},
   "source": [
    "# Anuncios parroquiales\n",
    "\n",
    "## 1. Último quiz la próxima clase.\n",
    "## 2. Próxima clase: asesoría de proyectos."
   ]
  },
  {
   "cell_type": "markdown",
   "metadata": {},
   "source": [
    "<script>\n",
    "  $(document).ready(function(){\n",
    "    $('div.prompt').hide();\n",
    "    $('div.back-to-top').hide();\n",
    "    $('nav#menubar').hide();\n",
    "    $('.breadcrumb').hide();\n",
    "    $('.hidden-print').hide();\n",
    "  });\n",
    "</script>\n",
    "\n",
    "<footer id=\"attribution\" style=\"float:right; color:#808080; background:#fff;\">\n",
    "Created with Jupyter by Esteban Jiménez Rodríguez.\n",
    "</footer>"
   ]
  }
 ],
 "metadata": {
  "kernelspec": {
   "display_name": "Python 3",
   "language": "python",
   "name": "python3"
  },
  "language_info": {
   "codemirror_mode": {
    "name": "ipython",
    "version": 3
   },
   "file_extension": ".py",
   "mimetype": "text/x-python",
   "name": "python",
   "nbconvert_exporter": "python",
   "pygments_lexer": "ipython3",
   "version": "3.6.5"
  }
 },
 "nbformat": 4,
 "nbformat_minor": 2
}
