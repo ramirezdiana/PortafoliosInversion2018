{
 "cells": [
  {
   "cell_type": "markdown",
   "metadata": {},
   "source": [
    "# Tarea 5. Construyendo la frontera de mínima varianza para dos activos.\n",
    "\n",
    "<img style=\"float: right; margin: 0px 0px 15px 15px;\" src=\"https://upload.wikimedia.org/wikipedia/commons/0/08/Pareto_Efficient_Frontier_for_the_Markowitz_Portfolio_selection_problem..png\" width=\"600px\" height=\"400px\" />\n",
    "\n",
    "**Resumen.**\n",
    "> En esta tarea, construirás la frontera de mínima varianza para dos activos riesgosos usando los datos de mercados internacionales que usamos en la clase 10.\n",
    "\n",
    "> Construirás portafolios que consisten de dos activos riesgosos, graficarás la frontera de mínima varianza y encontrarás el portafolio de mínima varianza. Repetirás luego el ejercicio para otro par de activos y compararás los beneficios de diversificación en cada caso.\n",
    "\n",
    "> Por favor, revisar la clase 10 para los datos. \n",
    "\n",
    "**Criterio de revisión.**\n",
    "> Se te calificará de acuerdo a los resultados finales que reportes, basados en tu análisis.\n",
    "\n",
    "**Antes de comenzar.**\n",
    "> Por favor, copiar y pegar este archivo en otra ubicación. Antes de comenzar, nombrarlo *Tarea5_ApellidoNombre*, sin acentos y sin espacios; por ejemplo, en mi caso el archivo se llamaría *Tarea5_JimenezEsteban*. Resolver todos los puntos en dicho archivo y subir en este espacio."
   ]
  },
  {
   "cell_type": "markdown",
   "metadata": {},
   "source": [
    "## 1. Datos (10 puntos)\n",
    "\n",
    "Copiar y pegar los datos de rendimientos esperados, volatilidades y correlaciones de mercados internacionales brindados en la Clase 10.\n",
    "\n",
    "1. Mostrar los DataFrame con los datos (5 puntos).\n",
    "2. Graficar en el espacio de rendimiento esperado contra volatilidad cada uno de los activos (5 puntos)."
   ]
  },
  {
   "cell_type": "code",
   "execution_count": 2,
   "metadata": {},
   "outputs": [],
   "source": [
    "import pandas as pd\n",
    "import numpy as np"
   ]
  },
  {
   "cell_type": "code",
   "execution_count": 3,
   "metadata": {},
   "outputs": [
    {
     "data": {
      "text/html": [
       "<div>\n",
       "<style scoped>\n",
       "    .dataframe tbody tr th:only-of-type {\n",
       "        vertical-align: middle;\n",
       "    }\n",
       "\n",
       "    .dataframe tbody tr th {\n",
       "        vertical-align: top;\n",
       "    }\n",
       "\n",
       "    .dataframe thead th {\n",
       "        text-align: right;\n",
       "    }\n",
       "</style>\n",
       "<table border=\"1\" class=\"dataframe\">\n",
       "  <thead>\n",
       "    <tr style=\"text-align: right;\">\n",
       "      <th></th>\n",
       "      <th>EU</th>\n",
       "      <th>RU</th>\n",
       "      <th>Francia</th>\n",
       "      <th>Alemania</th>\n",
       "      <th>Japon</th>\n",
       "    </tr>\n",
       "  </thead>\n",
       "  <tbody>\n",
       "    <tr>\n",
       "      <th>Media</th>\n",
       "      <td>0.1355</td>\n",
       "      <td>0.1589</td>\n",
       "      <td>0.1519</td>\n",
       "      <td>0.1435</td>\n",
       "      <td>0.1497</td>\n",
       "    </tr>\n",
       "    <tr>\n",
       "      <th>Volatilidad</th>\n",
       "      <td>0.1535</td>\n",
       "      <td>0.243</td>\n",
       "      <td>0.2324</td>\n",
       "      <td>0.2038</td>\n",
       "      <td>0.2298</td>\n",
       "    </tr>\n",
       "  </tbody>\n",
       "</table>\n",
       "</div>"
      ],
      "text/plain": [
       "                 EU      RU Francia Alemania   Japon\n",
       "Media        0.1355  0.1589  0.1519   0.1435  0.1497\n",
       "Volatilidad  0.1535   0.243  0.2324   0.2038  0.2298"
      ]
     },
     "execution_count": 3,
     "metadata": {},
     "output_type": "execute_result"
    }
   ],
   "source": [
    "annual_ret_summ = pd.DataFrame(columns=['EU', 'RU', 'Francia', 'Alemania', 'Japon'], index=['Media', 'Volatilidad'])\n",
    "annual_ret_summ.loc['Media'] = np.array([0.1355, 0.1589, 0.1519, 0.1435, 0.1497])\n",
    "annual_ret_summ.loc['Volatilidad'] = np.array([0.1535, 0.2430, 0.2324, 0.2038, 0.2298])\n",
    "\n",
    "annual_ret_summ.round(4)"
   ]
  },
  {
   "cell_type": "code",
   "execution_count": 4,
   "metadata": {},
   "outputs": [],
   "source": [
    "import matplotlib.pyplot as plt"
   ]
  },
  {
   "cell_type": "code",
   "execution_count": 5,
   "metadata": {},
   "outputs": [
    {
     "data": {
      "image/png": "[encoded data removed]",
      "text/plain": [
       "<Figure size 576x432 with 1 Axes>"
      ]
     },
     "metadata": {},
     "output_type": "display_data"
    }
   ],
   "source": [
    "x=annual_ret_summ.loc['Volatilidad'].values\n",
    "y=annual_ret_summ.loc['Media'].values\n",
    "plt.figure(figsize=(8,6))\n",
    "plt.plot(x,y,'ro',ms=10)\n",
    "plt.xlabel('Volatilidad $\\sigma$')\n",
    "plt.ylabel('Retorno esperado $E[r]$')\n",
    "plt.title('Riesgo vs rendimiento')\n",
    "plt.text(x[0],y[0],annual_ret_summ.columns[0])\n",
    "plt.text(x[1],y[1],annual_ret_summ.columns[1])\n",
    "plt.text(x[2],y[2],annual_ret_summ.columns[2])\n",
    "plt.text(x[3],y[3],annual_ret_summ.columns[3])\n",
    "plt.text(x[4],y[4],annual_ret_summ.columns[4])\n",
    "plt.show()"
   ]
  },
  {
   "cell_type": "markdown",
   "metadata": {},
   "source": [
    "## 2. Portafolios con Japón y Reino Unido (30 puntos)\n",
    "\n",
    "Usando los datos del punto anterior:\n",
    "\n",
    "1. Construya la frontera de mínima varianza que representa las posibles combinaciones de portafolios que se pueden crear con los mercados Japoneses y del Reino Unido como activos riesgosos. Puedes pensar en ellos como índices de mercado. Reportar los rendimientos esperados y las volatilidades de estos portafolios en un DataFrame (15 puntos).\n",
    "2. Encontrar los pesos del portafolio de mínima varianza. ¿Cuáles son el rendimiento esperado y volatilidad del portafolio de mínima varianza? (15 puntos)."
   ]
  },
  {
   "cell_type": "code",
   "execution_count": 6,
   "metadata": {},
   "outputs": [
    {
     "data": {
      "text/html": [
       "<div>\n",
       "<style scoped>\n",
       "    .dataframe tbody tr th:only-of-type {\n",
       "        vertical-align: middle;\n",
       "    }\n",
       "\n",
       "    .dataframe tbody tr th {\n",
       "        vertical-align: top;\n",
       "    }\n",
       "\n",
       "    .dataframe thead th {\n",
       "        text-align: right;\n",
       "    }\n",
       "</style>\n",
       "<table border=\"1\" class=\"dataframe\">\n",
       "  <thead>\n",
       "    <tr style=\"text-align: right;\">\n",
       "      <th></th>\n",
       "      <th>EU</th>\n",
       "      <th>RU</th>\n",
       "      <th>Francia</th>\n",
       "      <th>Alemania</th>\n",
       "      <th>Japon</th>\n",
       "    </tr>\n",
       "  </thead>\n",
       "  <tbody>\n",
       "    <tr>\n",
       "      <th>EU</th>\n",
       "      <td>1.0000</td>\n",
       "      <td>0.5003</td>\n",
       "      <td>0.4398</td>\n",
       "      <td>0.3681</td>\n",
       "      <td>0.2663</td>\n",
       "    </tr>\n",
       "    <tr>\n",
       "      <th>RU</th>\n",
       "      <td>0.5003</td>\n",
       "      <td>1.0000</td>\n",
       "      <td>0.5420</td>\n",
       "      <td>0.4265</td>\n",
       "      <td>0.3581</td>\n",
       "    </tr>\n",
       "    <tr>\n",
       "      <th>Francia</th>\n",
       "      <td>0.4398</td>\n",
       "      <td>0.5420</td>\n",
       "      <td>1.0000</td>\n",
       "      <td>0.6032</td>\n",
       "      <td>0.3923</td>\n",
       "    </tr>\n",
       "    <tr>\n",
       "      <th>Alemania</th>\n",
       "      <td>0.3681</td>\n",
       "      <td>0.4265</td>\n",
       "      <td>0.6032</td>\n",
       "      <td>1.0000</td>\n",
       "      <td>0.3663</td>\n",
       "    </tr>\n",
       "    <tr>\n",
       "      <th>Japon</th>\n",
       "      <td>0.2663</td>\n",
       "      <td>0.3581</td>\n",
       "      <td>0.3923</td>\n",
       "      <td>0.3663</td>\n",
       "      <td>1.0000</td>\n",
       "    </tr>\n",
       "  </tbody>\n",
       "</table>\n",
       "</div>"
      ],
      "text/plain": [
       "              EU      RU  Francia  Alemania   Japon\n",
       "EU        1.0000  0.5003   0.4398    0.3681  0.2663\n",
       "RU        0.5003  1.0000   0.5420    0.4265  0.3581\n",
       "Francia   0.4398  0.5420   1.0000    0.6032  0.3923\n",
       "Alemania  0.3681  0.4265   0.6032    1.0000  0.3663\n",
       "Japon     0.2663  0.3581   0.3923    0.3663  1.0000"
      ]
     },
     "execution_count": 6,
     "metadata": {},
     "output_type": "execute_result"
    }
   ],
   "source": [
    "corr = pd.DataFrame(data= np.array([[1.0000, 0.5003, 0.4398, 0.3681, 0.2663],\n",
    "                                    [0.5003, 1.0000, 0.5420, 0.4265, 0.3581],\n",
    "                                    [0.4398, 0.5420, 1.0000, 0.6032, 0.3923],\n",
    "                                    [0.3681, 0.4265, 0.6032, 1.0000, 0.3663],\n",
    "                                    [0.2663, 0.3581, 0.3923, 0.3663, 1.0000]]),\n",
    "                    columns=annual_ret_summ.columns, index=annual_ret_summ.columns)\n",
    "corr.round(4)"
   ]
  },
  {
   "cell_type": "code",
   "execution_count": 7,
   "metadata": {},
   "outputs": [
    {
     "data": {
      "text/html": [
       "<div>\n",
       "<style scoped>\n",
       "    .dataframe tbody tr th:only-of-type {\n",
       "        vertical-align: middle;\n",
       "    }\n",
       "\n",
       "    .dataframe tbody tr th {\n",
       "        vertical-align: top;\n",
       "    }\n",
       "\n",
       "    .dataframe thead th {\n",
       "        text-align: right;\n",
       "    }\n",
       "</style>\n",
       "<table border=\"1\" class=\"dataframe\">\n",
       "  <thead>\n",
       "    <tr style=\"text-align: right;\">\n",
       "      <th></th>\n",
       "      <th>Rend</th>\n",
       "      <th>Vol</th>\n",
       "    </tr>\n",
       "    <tr>\n",
       "      <th>w</th>\n",
       "      <th></th>\n",
       "      <th></th>\n",
       "    </tr>\n",
       "  </thead>\n",
       "  <tbody>\n",
       "    <tr>\n",
       "      <th>0.000000</th>\n",
       "      <td>0.1589</td>\n",
       "      <td>0.2430</td>\n",
       "    </tr>\n",
       "    <tr>\n",
       "      <th>0.034483</th>\n",
       "      <td>0.1586</td>\n",
       "      <td>0.2376</td>\n",
       "    </tr>\n",
       "    <tr>\n",
       "      <th>0.068966</th>\n",
       "      <td>0.1583</td>\n",
       "      <td>0.2324</td>\n",
       "    </tr>\n",
       "    <tr>\n",
       "      <th>0.103448</th>\n",
       "      <td>0.1579</td>\n",
       "      <td>0.2275</td>\n",
       "    </tr>\n",
       "    <tr>\n",
       "      <th>0.137931</th>\n",
       "      <td>0.1576</td>\n",
       "      <td>0.2228</td>\n",
       "    </tr>\n",
       "    <tr>\n",
       "      <th>0.172414</th>\n",
       "      <td>0.1573</td>\n",
       "      <td>0.2184</td>\n",
       "    </tr>\n",
       "    <tr>\n",
       "      <th>0.206897</th>\n",
       "      <td>0.1570</td>\n",
       "      <td>0.2144</td>\n",
       "    </tr>\n",
       "    <tr>\n",
       "      <th>0.241379</th>\n",
       "      <td>0.1567</td>\n",
       "      <td>0.2107</td>\n",
       "    </tr>\n",
       "    <tr>\n",
       "      <th>0.275862</th>\n",
       "      <td>0.1564</td>\n",
       "      <td>0.2073</td>\n",
       "    </tr>\n",
       "    <tr>\n",
       "      <th>0.310345</th>\n",
       "      <td>0.1560</td>\n",
       "      <td>0.2043</td>\n",
       "    </tr>\n",
       "    <tr>\n",
       "      <th>0.344828</th>\n",
       "      <td>0.1557</td>\n",
       "      <td>0.2016</td>\n",
       "    </tr>\n",
       "    <tr>\n",
       "      <th>0.379310</th>\n",
       "      <td>0.1554</td>\n",
       "      <td>0.1994</td>\n",
       "    </tr>\n",
       "    <tr>\n",
       "      <th>0.413793</th>\n",
       "      <td>0.1551</td>\n",
       "      <td>0.1976</td>\n",
       "    </tr>\n",
       "    <tr>\n",
       "      <th>0.448276</th>\n",
       "      <td>0.1548</td>\n",
       "      <td>0.1962</td>\n",
       "    </tr>\n",
       "    <tr>\n",
       "      <th>0.482759</th>\n",
       "      <td>0.1545</td>\n",
       "      <td>0.1952</td>\n",
       "    </tr>\n",
       "    <tr>\n",
       "      <th>0.517241</th>\n",
       "      <td>0.1541</td>\n",
       "      <td>0.1946</td>\n",
       "    </tr>\n",
       "    <tr>\n",
       "      <th>0.551724</th>\n",
       "      <td>0.1538</td>\n",
       "      <td>0.1945</td>\n",
       "    </tr>\n",
       "    <tr>\n",
       "      <th>0.586207</th>\n",
       "      <td>0.1535</td>\n",
       "      <td>0.1948</td>\n",
       "    </tr>\n",
       "    <tr>\n",
       "      <th>0.620690</th>\n",
       "      <td>0.1532</td>\n",
       "      <td>0.1956</td>\n",
       "    </tr>\n",
       "    <tr>\n",
       "      <th>0.655172</th>\n",
       "      <td>0.1529</td>\n",
       "      <td>0.1968</td>\n",
       "    </tr>\n",
       "    <tr>\n",
       "      <th>0.689655</th>\n",
       "      <td>0.1526</td>\n",
       "      <td>0.1984</td>\n",
       "    </tr>\n",
       "    <tr>\n",
       "      <th>0.724138</th>\n",
       "      <td>0.1522</td>\n",
       "      <td>0.2004</td>\n",
       "    </tr>\n",
       "    <tr>\n",
       "      <th>0.758621</th>\n",
       "      <td>0.1519</td>\n",
       "      <td>0.2029</td>\n",
       "    </tr>\n",
       "    <tr>\n",
       "      <th>0.793103</th>\n",
       "      <td>0.1516</td>\n",
       "      <td>0.2057</td>\n",
       "    </tr>\n",
       "    <tr>\n",
       "      <th>0.827586</th>\n",
       "      <td>0.1513</td>\n",
       "      <td>0.2089</td>\n",
       "    </tr>\n",
       "    <tr>\n",
       "      <th>0.862069</th>\n",
       "      <td>0.1510</td>\n",
       "      <td>0.2124</td>\n",
       "    </tr>\n",
       "    <tr>\n",
       "      <th>0.896552</th>\n",
       "      <td>0.1507</td>\n",
       "      <td>0.2163</td>\n",
       "    </tr>\n",
       "    <tr>\n",
       "      <th>0.931034</th>\n",
       "      <td>0.1503</td>\n",
       "      <td>0.2205</td>\n",
       "    </tr>\n",
       "    <tr>\n",
       "      <th>0.965517</th>\n",
       "      <td>0.1500</td>\n",
       "      <td>0.2250</td>\n",
       "    </tr>\n",
       "    <tr>\n",
       "      <th>1.000000</th>\n",
       "      <td>0.1497</td>\n",
       "      <td>0.2298</td>\n",
       "    </tr>\n",
       "  </tbody>\n",
       "</table>\n",
       "</div>"
      ],
      "text/plain": [
       "            Rend     Vol\n",
       "w                       \n",
       "0.000000  0.1589  0.2430\n",
       "0.034483  0.1586  0.2376\n",
       "0.068966  0.1583  0.2324\n",
       "0.103448  0.1579  0.2275\n",
       "0.137931  0.1576  0.2228\n",
       "0.172414  0.1573  0.2184\n",
       "0.206897  0.1570  0.2144\n",
       "0.241379  0.1567  0.2107\n",
       "0.275862  0.1564  0.2073\n",
       "0.310345  0.1560  0.2043\n",
       "0.344828  0.1557  0.2016\n",
       "0.379310  0.1554  0.1994\n",
       "0.413793  0.1551  0.1976\n",
       "0.448276  0.1548  0.1962\n",
       "0.482759  0.1545  0.1952\n",
       "0.517241  0.1541  0.1946\n",
       "0.551724  0.1538  0.1945\n",
       "0.586207  0.1535  0.1948\n",
       "0.620690  0.1532  0.1956\n",
       "0.655172  0.1529  0.1968\n",
       "0.689655  0.1526  0.1984\n",
       "0.724138  0.1522  0.2004\n",
       "0.758621  0.1519  0.2029\n",
       "0.793103  0.1516  0.2057\n",
       "0.827586  0.1513  0.2089\n",
       "0.862069  0.1510  0.2124\n",
       "0.896552  0.1507  0.2163\n",
       "0.931034  0.1503  0.2205\n",
       "0.965517  0.1500  0.2250\n",
       "1.000000  0.1497  0.2298"
      ]
     },
     "execution_count": 7,
     "metadata": {},
     "output_type": "execute_result"
    }
   ],
   "source": [
    "# Vector de w variando entre 0 y 1 con n pasos\n",
    "w = np.linspace(0, 1, 30)\n",
    "# Rendimientos esperados individuales\n",
    "# Activo1: japon, Activo2:RU\n",
    "E1 = annual_ret_summ['Japon']['Media']\n",
    "E2 = annual_ret_summ['RU']['Media']\n",
    "# Volatilidades individuales\n",
    "s1 = annual_ret_summ['Japon']['Volatilidad']\n",
    "s2 = annual_ret_summ['RU']['Volatilidad']\n",
    "# Correlacion\n",
    "r12 = corr['Japon']['RU']\n",
    "portafolios1 = pd.DataFrame(index=w,columns=['Rend','Vol'])\n",
    "portafolios1.index.name = 'w'\n",
    "portafolios1.Rend = w*E1+(1-w)*E2\n",
    "portafolios1.Vol = np.sqrt((w*s1)**2+((1-w)*s2)**2+2*w*(1-w)*r12*s1*s2)\n",
    "portafolios1.round(4)"
   ]
  },
  {
   "cell_type": "code",
   "execution_count": 8,
   "metadata": {},
   "outputs": [
    {
     "data": {
      "text/plain": [
       "      fun: array([0.03782716])\n",
       " hess_inv: <1x1 LbfgsInvHessProduct with dtype=float64>\n",
       "      jac: array([-3.46944695e-09])\n",
       "  message: b'CONVERGENCE: NORM_OF_PROJECTED_GRADIENT_<=_PGTOL'\n",
       "     nfev: 6\n",
       "      nit: 2\n",
       "   status: 0\n",
       "  success: True\n",
       "        x: array([0.54342233])"
      ]
     },
     "execution_count": 8,
     "metadata": {},
     "output_type": "execute_result"
    }
   ],
   "source": [
    "import scipy.optimize as opt\n",
    "def var2(w,s1,s2,s12):\n",
    "    return (w*s1)**2+((1-w)*s2)**2+2*w*(1-w)*s12\n",
    "w0=0\n",
    "# Volatilidades individuales y covarianza\n",
    "s1=annual_ret_summ['Japon']['Volatilidad']\n",
    "s2=annual_ret_summ['RU']['Volatilidad']\n",
    "s12 = corr['Japon']['RU']*s1*s2\n",
    "\n",
    "# Cota de w\n",
    "bnd=(0,1)\n",
    "minvar2=opt.minimize(var2,w0,args=(s1,s2,s12),bounds=(bnd,))\n",
    "minvar2"
   ]
  },
  {
   "cell_type": "code",
   "execution_count": 9,
   "metadata": {},
   "outputs": [
    {
     "data": {
      "image/png": "[encoded data removed]",
      "text/plain": [
       "<Figure size 576x432 with 1 Axes>"
      ]
     },
     "metadata": {},
     "output_type": "display_data"
    }
   ],
   "source": [
    "plt.figure(figsize=(8,6))\n",
    "plt.plot(s1, E1, 'ro', ms = 10, label='Japon')\n",
    "plt.plot(s2, E2, 'bo', ms = 10, label='RU')\n",
    "plt.plot(portafolios1.Vol, portafolios1.Rend, 'k-', lw = 4, label='Portafolios1')\n",
    "plt.plot(np.sqrt(minvar2.fun),minvar2.x*E1+(1-minvar2.x)*E2,'*m',ms=10,label='Port.min.var')\n",
    "plt.xlabel('Volatilidad ($sigma$)')\n",
    "plt.ylabel('Rendimiento esperado ($E[r]$)')\n",
    "plt.legend(loc='best')\n",
    "plt.grid()\n",
    "plt.show()"
   ]
  },
  {
   "cell_type": "code",
   "execution_count": 8,
   "metadata": {},
   "outputs": [
    {
     "name": "stdout",
     "output_type": "stream",
     "text": [
      "54.3422 % en Japon,  45.6578 % en Reino Unido\n"
     ]
    }
   ],
   "source": [
    "w_minvar = (s2**2-(r12*s1*s2))/(s1**2+s2**2-2*(r12*s1*s2))\n",
    "w=round(w_minvar,6)\n",
    "mr=1-w_minvar\n",
    "minRU=round(mr,6)\n",
    "print(w*100,'% en Japon, ',(1-w)*100,'% en Reino Unido')"
   ]
  },
  {
   "cell_type": "code",
   "execution_count": 9,
   "metadata": {},
   "outputs": [
    {
     "name": "stdout",
     "output_type": "stream",
     "text": [
      "Rendimiento esperado:  0.1539005176\n"
     ]
    }
   ],
   "source": [
    "er=w*E1+(1-w)*E2\n",
    "print('Rendimiento esperado: ',er)"
   ]
  },
  {
   "cell_type": "code",
   "execution_count": 10,
   "metadata": {},
   "outputs": [
    {
     "name": "stdout",
     "output_type": "stream",
     "text": [
      "Volatilidad:  0.19449206680735467\n"
     ]
    }
   ],
   "source": [
    "vol = np.sqrt((w*s1)**2+((1-w)*s2)**2+2*w*(1-w)*r12*s1*s2)\n",
    "print('Volatilidad: ',vol)"
   ]
  },
  {
   "cell_type": "markdown",
   "metadata": {},
   "source": [
    "## 3. Mismos activos, distinta correlación (30 puntos)\n",
    "\n",
    "En este punto se usarán los mismos activos (Japón y Reino Unido) con sus rendimientos esperados y volatilidades, solo que supondremos que el coeficiente de correlación entre sus rendimiento es de 0.5.\n",
    "\n",
    "1. Nuevamente, construya la frontera de mínima varianza para estos dos activos con el nuevo supuesto de correlación. Reportar los rendimientos esperados y las volatilidades de estos portafolios en un DataFrame (15 puntos).\n",
    "2. Encontrar los pesos del portafolio de mínima varianza. ¿Cuáles son el rendimiento esperado y volatilidad del portafolio de mínima varianza? (15 puntos)."
   ]
  },
  {
   "cell_type": "code",
   "execution_count": 13,
   "metadata": {},
   "outputs": [
    {
     "data": {
      "text/html": [
       "<div>\n",
       "<style scoped>\n",
       "    .dataframe tbody tr th:only-of-type {\n",
       "        vertical-align: middle;\n",
       "    }\n",
       "\n",
       "    .dataframe tbody tr th {\n",
       "        vertical-align: top;\n",
       "    }\n",
       "\n",
       "    .dataframe thead th {\n",
       "        text-align: right;\n",
       "    }\n",
       "</style>\n",
       "<table border=\"1\" class=\"dataframe\">\n",
       "  <thead>\n",
       "    <tr style=\"text-align: right;\">\n",
       "      <th></th>\n",
       "      <th>Rend</th>\n",
       "      <th>Vol</th>\n",
       "    </tr>\n",
       "    <tr>\n",
       "      <th>w</th>\n",
       "      <th></th>\n",
       "      <th></th>\n",
       "    </tr>\n",
       "  </thead>\n",
       "  <tbody>\n",
       "    <tr>\n",
       "      <th>0.000000</th>\n",
       "      <td>0.1589</td>\n",
       "      <td>0.2430</td>\n",
       "    </tr>\n",
       "    <tr>\n",
       "      <th>0.034483</th>\n",
       "      <td>0.1586</td>\n",
       "      <td>0.2387</td>\n",
       "    </tr>\n",
       "    <tr>\n",
       "      <th>0.068966</th>\n",
       "      <td>0.1583</td>\n",
       "      <td>0.2346</td>\n",
       "    </tr>\n",
       "    <tr>\n",
       "      <th>0.103448</th>\n",
       "      <td>0.1579</td>\n",
       "      <td>0.2307</td>\n",
       "    </tr>\n",
       "    <tr>\n",
       "      <th>0.137931</th>\n",
       "      <td>0.1576</td>\n",
       "      <td>0.2270</td>\n",
       "    </tr>\n",
       "    <tr>\n",
       "      <th>0.172414</th>\n",
       "      <td>0.1573</td>\n",
       "      <td>0.2236</td>\n",
       "    </tr>\n",
       "    <tr>\n",
       "      <th>0.206897</th>\n",
       "      <td>0.1570</td>\n",
       "      <td>0.2204</td>\n",
       "    </tr>\n",
       "    <tr>\n",
       "      <th>0.241379</th>\n",
       "      <td>0.1567</td>\n",
       "      <td>0.2175</td>\n",
       "    </tr>\n",
       "    <tr>\n",
       "      <th>0.275862</th>\n",
       "      <td>0.1564</td>\n",
       "      <td>0.2148</td>\n",
       "    </tr>\n",
       "    <tr>\n",
       "      <th>0.310345</th>\n",
       "      <td>0.1560</td>\n",
       "      <td>0.2124</td>\n",
       "    </tr>\n",
       "    <tr>\n",
       "      <th>0.344828</th>\n",
       "      <td>0.1557</td>\n",
       "      <td>0.2103</td>\n",
       "    </tr>\n",
       "    <tr>\n",
       "      <th>0.379310</th>\n",
       "      <td>0.1554</td>\n",
       "      <td>0.2086</td>\n",
       "    </tr>\n",
       "    <tr>\n",
       "      <th>0.413793</th>\n",
       "      <td>0.1551</td>\n",
       "      <td>0.2071</td>\n",
       "    </tr>\n",
       "    <tr>\n",
       "      <th>0.448276</th>\n",
       "      <td>0.1548</td>\n",
       "      <td>0.2059</td>\n",
       "    </tr>\n",
       "    <tr>\n",
       "      <th>0.482759</th>\n",
       "      <td>0.1545</td>\n",
       "      <td>0.2051</td>\n",
       "    </tr>\n",
       "    <tr>\n",
       "      <th>0.517241</th>\n",
       "      <td>0.1541</td>\n",
       "      <td>0.2045</td>\n",
       "    </tr>\n",
       "    <tr>\n",
       "      <th>0.551724</th>\n",
       "      <td>0.1538</td>\n",
       "      <td>0.2043</td>\n",
       "    </tr>\n",
       "    <tr>\n",
       "      <th>0.586207</th>\n",
       "      <td>0.1535</td>\n",
       "      <td>0.2045</td>\n",
       "    </tr>\n",
       "    <tr>\n",
       "      <th>0.620690</th>\n",
       "      <td>0.1532</td>\n",
       "      <td>0.2049</td>\n",
       "    </tr>\n",
       "    <tr>\n",
       "      <th>0.655172</th>\n",
       "      <td>0.1529</td>\n",
       "      <td>0.2057</td>\n",
       "    </tr>\n",
       "    <tr>\n",
       "      <th>0.689655</th>\n",
       "      <td>0.1526</td>\n",
       "      <td>0.2068</td>\n",
       "    </tr>\n",
       "    <tr>\n",
       "      <th>0.724138</th>\n",
       "      <td>0.1522</td>\n",
       "      <td>0.2082</td>\n",
       "    </tr>\n",
       "    <tr>\n",
       "      <th>0.758621</th>\n",
       "      <td>0.1519</td>\n",
       "      <td>0.2099</td>\n",
       "    </tr>\n",
       "    <tr>\n",
       "      <th>0.793103</th>\n",
       "      <td>0.1516</td>\n",
       "      <td>0.2119</td>\n",
       "    </tr>\n",
       "    <tr>\n",
       "      <th>0.827586</th>\n",
       "      <td>0.1513</td>\n",
       "      <td>0.2142</td>\n",
       "    </tr>\n",
       "    <tr>\n",
       "      <th>0.862069</th>\n",
       "      <td>0.1510</td>\n",
       "      <td>0.2168</td>\n",
       "    </tr>\n",
       "    <tr>\n",
       "      <th>0.896552</th>\n",
       "      <td>0.1507</td>\n",
       "      <td>0.2197</td>\n",
       "    </tr>\n",
       "    <tr>\n",
       "      <th>0.931034</th>\n",
       "      <td>0.1503</td>\n",
       "      <td>0.2228</td>\n",
       "    </tr>\n",
       "    <tr>\n",
       "      <th>0.965517</th>\n",
       "      <td>0.1500</td>\n",
       "      <td>0.2262</td>\n",
       "    </tr>\n",
       "    <tr>\n",
       "      <th>1.000000</th>\n",
       "      <td>0.1497</td>\n",
       "      <td>0.2298</td>\n",
       "    </tr>\n",
       "  </tbody>\n",
       "</table>\n",
       "</div>"
      ],
      "text/plain": [
       "            Rend     Vol\n",
       "w                       \n",
       "0.000000  0.1589  0.2430\n",
       "0.034483  0.1586  0.2387\n",
       "0.068966  0.1583  0.2346\n",
       "0.103448  0.1579  0.2307\n",
       "0.137931  0.1576  0.2270\n",
       "0.172414  0.1573  0.2236\n",
       "0.206897  0.1570  0.2204\n",
       "0.241379  0.1567  0.2175\n",
       "0.275862  0.1564  0.2148\n",
       "0.310345  0.1560  0.2124\n",
       "0.344828  0.1557  0.2103\n",
       "0.379310  0.1554  0.2086\n",
       "0.413793  0.1551  0.2071\n",
       "0.448276  0.1548  0.2059\n",
       "0.482759  0.1545  0.2051\n",
       "0.517241  0.1541  0.2045\n",
       "0.551724  0.1538  0.2043\n",
       "0.586207  0.1535  0.2045\n",
       "0.620690  0.1532  0.2049\n",
       "0.655172  0.1529  0.2057\n",
       "0.689655  0.1526  0.2068\n",
       "0.724138  0.1522  0.2082\n",
       "0.758621  0.1519  0.2099\n",
       "0.793103  0.1516  0.2119\n",
       "0.827586  0.1513  0.2142\n",
       "0.862069  0.1510  0.2168\n",
       "0.896552  0.1507  0.2197\n",
       "0.931034  0.1503  0.2228\n",
       "0.965517  0.1500  0.2262\n",
       "1.000000  0.1497  0.2298"
      ]
     },
     "execution_count": 13,
     "metadata": {},
     "output_type": "execute_result"
    }
   ],
   "source": [
    "# Vector de w variando entre 0 y 1 con n pasos\n",
    "w = np.linspace(0, 1, 30)\n",
    "# Rendimientos esperados individuales\n",
    "# Activo1: japon, Activo2:RU\n",
    "e1 = annual_ret_summ['Japon']['Media']\n",
    "e2 = annual_ret_summ['RU']['Media']\n",
    "# Volatilidades individuales\n",
    "S1 = annual_ret_summ['Japon']['Volatilidad']\n",
    "S2 = annual_ret_summ['RU']['Volatilidad']\n",
    "# Correlacion\n",
    "R12 = .5\n",
    "portafolios2 = pd.DataFrame(index=w,columns=['Rend','Vol'])\n",
    "portafolios2.index.name = 'w'\n",
    "portafolios2.Rend = w*e1+(1-w)*e2\n",
    "portafolios2.Vol = np.sqrt((w*s1)**2+((1-w)*s2)**2+2*w*(1-w)*R12*S1*S2)\n",
    "portafolios2.round(4)"
   ]
  },
  {
   "cell_type": "code",
   "execution_count": 14,
   "metadata": {},
   "outputs": [
    {
     "data": {
      "text/plain": [
       "      fun: array([0.04175078])\n",
       " hess_inv: <1x1 LbfgsInvHessProduct with dtype=float64>\n",
       "      jac: array([2.77555756e-09])\n",
       "  message: b'CONVERGENCE: NORM_OF_PROJECTED_GRADIENT_<=_PGTOL'\n",
       "     nfev: 6\n",
       "      nit: 2\n",
       "   status: 0\n",
       "  success: True\n",
       "        x: array([0.55570732])"
      ]
     },
     "execution_count": 14,
     "metadata": {},
     "output_type": "execute_result"
    }
   ],
   "source": [
    "import scipy.optimize as opt\n",
    "def var2(w,s1,s2,s12):\n",
    "    return (w*s1)**2+((1-w)*s2)**2+2*w*(1-w)*s12\n",
    "w0=0\n",
    "# Volatilidades individuales y covarianza\n",
    "S1=annual_ret_summ['Japon']['Volatilidad']\n",
    "S2=annual_ret_summ['RU']['Volatilidad']\n",
    "S12 = .5*s1*s2\n",
    "\n",
    "# Cota de w\n",
    "bnd=(0,1)\n",
    "minvar3=opt.minimize(var2,w0,args=(S1,S2,S12),bounds=(bnd,))\n",
    "minvar3"
   ]
  },
  {
   "cell_type": "code",
   "execution_count": 15,
   "metadata": {},
   "outputs": [
    {
     "data": {
      "image/png": "[encoded data removed]",
      "text/plain": [
       "<Figure size 576x432 with 1 Axes>"
      ]
     },
     "metadata": {},
     "output_type": "display_data"
    }
   ],
   "source": [
    "plt.figure(figsize=(8,6))\n",
    "plt.plot(S1, e1, 'ro', ms = 10, label='Japon')\n",
    "plt.plot(S2, e2, 'bo', ms = 10, label='RU')\n",
    "plt.plot(portafolios2.Vol, portafolios2.Rend, 'k-', lw = 4, label='Portafolios2')\n",
    "plt.plot(np.sqrt(minvar3.fun),minvar3.x*e1+(1-minvar3.x)*e2,'*m',ms=10,label='Port.min.var')\n",
    "plt.xlabel('Volatilidad ($sigma$)')\n",
    "plt.ylabel('Rendimiento esperado ($E[r]$)')\n",
    "plt.legend(loc='best')\n",
    "plt.grid()\n",
    "plt.show()"
   ]
  },
  {
   "cell_type": "code",
   "execution_count": 16,
   "metadata": {},
   "outputs": [
    {
     "name": "stdout",
     "output_type": "stream",
     "text": [
      "55.570699999999995 % en Japon,  44.429300000000005 % en Reino Unido\n"
     ]
    }
   ],
   "source": [
    "w_minvar = (s2**2-(R12*s1*s2))/(s1**2+s2**2-2*(R12*s1*s2))\n",
    "w=round(w_minvar,6)\n",
    "print(w*100,'% en Japon, ',(1-w)*100,'% en Reino Unido')"
   ]
  },
  {
   "cell_type": "code",
   "execution_count": 17,
   "metadata": {},
   "outputs": [
    {
     "name": "stdout",
     "output_type": "stream",
     "text": [
      "Rendimiento esperado:  0.1537874956\n"
     ]
    }
   ],
   "source": [
    "er=w*E1+(1-w)*E2\n",
    "print('Rendimiento esperado: ',er)"
   ]
  },
  {
   "cell_type": "code",
   "execution_count": 18,
   "metadata": {},
   "outputs": [
    {
     "name": "stdout",
     "output_type": "stream",
     "text": [
      "Volatilidad:  0.20433006750834404\n"
     ]
    }
   ],
   "source": [
    "vol = np.sqrt((w*s1)**2+((1-w)*s2)**2+2*w*(1-w)*R12*s1*s2)\n",
    "print('Volatilidad: ',vol)"
   ]
  },
  {
   "cell_type": "markdown",
   "metadata": {},
   "source": [
    "## 4. Gráficos y conclusiones (30 puntos)\n",
    "\n",
    "1. Usando sus respuestas para los puntos 2 y 3, grafique las dos fronteras encontradas en una sola gráfica, además de los puntos correspondientes a los activos individuales, donde el eje $x$ es la volatilidad y el eje $y$ el rendimiento esperado. Asegúrese de etiquetar todo y poner distintos colores para diferenciar los distintos elementos en su gráfico (15 puntos).\n",
    "2. Concluya acerca de la gráfica de las dos fronteras de mínima varianza. ¿Cuál provee más diversificación?, ¿cómo se diferencian?, ¿son diferentes los pesos de los dos portafolios de varianza mínima en cada caso?, ¿cómo puede explicar esta diferencia? (15 puntos)."
   ]
  },
  {
   "cell_type": "code",
   "execution_count": 20,
   "metadata": {},
   "outputs": [
    {
     "data": {
      "image/png": "[encoded data removed]",
      "text/plain": [
       "<Figure size 576x432 with 1 Axes>"
      ]
     },
     "metadata": {},
     "output_type": "display_data"
    }
   ],
   "source": [
    "plt.figure(figsize=(8,6))\n",
    "plt.plot(s1, E1, 'ro', ms = 10, label='Japon')\n",
    "plt.plot(s2, E2, 'bo', ms = 10, label='RU')\n",
    "plt.plot(portafolios1.Vol, portafolios1.Rend, 'g-', lw = 4, label='Portafolios1')\n",
    "plt.plot(portafolios2.Vol, portafolios2.Rend, 'k-', lw = 4, label='Portafolios2')\n",
    "plt.plot(np.sqrt(minvar2.fun),minvar2.x*E1+(1-minvar2.x)*E2,'*b',ms=10,label='Port.min.var1')\n",
    "plt.plot(np.sqrt(minvar3.fun),minvar3.x*e1+(1-minvar3.x)*e2,'*m',ms=10,label='Port.min.var2')\n",
    "plt.title('Volatilidad vs rendimiento')\n",
    "plt.xlabel('Volatilidad ($sigma$)')\n",
    "plt.ylabel('Rendimiento esperado ($E[r]$)')\n",
    "plt.legend(loc='best')\n",
    "plt.grid()\n",
    "plt.show()"
   ]
  },
  {
   "cell_type": "markdown",
   "metadata": {},
   "source": [
    "La primer grafica que se creó (Portafolios1) es la que provee mayor diversificación. Esto se explica por el coeficiente de correlación que se estableció. Portafolios1 cuenta con .3581 y Portafolios2 con .5, al haber menos correlación, como vimos en la clase 9, el efecto en la diversificación es una mayor reducción del riesgo.\n",
    "\n",
    "Los pesos de los portafolios varían por un 1%, a pesar de el cambio de correlación, lo que obtiene un mayor rendimiento con un menor riesgo sigue siendo los mismos pesos aproximadamente.\n",
    "\n",
    "El rendimiento no cambia pues la correlación no lo afecta, la esperanza es lineal. Sin embargo, el riesgo sí aumentó al aumentar la correlacón, esto por el efecto en la diversificación del coeficiente de correlación\n",
    "\n",
    "Cuando hay mayor correlación, el portafolio de minima varianza le da un mayor peso al activo con el mayor rendimiento,haciendo que el rendimiento sea cada vez mayor, pero con un riesgo también mayor, obviamente teniendo como límite el portafolio con el mayor rendimiento"
   ]
  },
  {
   "cell_type": "markdown",
   "metadata": {},
   "source": [
    "<script>\n",
    "  $(document).ready(function(){\n",
    "    $('div.prompt').hide();\n",
    "    $('div.back-to-top').hide();\n",
    "    $('nav#menubar').hide();\n",
    "    $('.breadcrumb').hide();\n",
    "    $('.hidden-print').hide();\n",
    "  });\n",
    "</script>\n",
    "\n",
    "<footer id=\"attribution\" style=\"float:right; color:#808080; background:#fff;\">\n",
    "Created with Jupyter by Esteban Jiménez Rodríguez.\n",
    "</footer>"
   ]
  }
 ],
 "metadata": {
  "kernelspec": {
   "display_name": "Python 3",
   "language": "python",
   "name": "python3"
  },
  "language_info": {
   "codemirror_mode": {
    "name": "ipython",
    "version": 3
   },
   "file_extension": ".py",
   "mimetype": "text/x-python",
   "name": "python",
   "nbconvert_exporter": "python",
   "pygments_lexer": "ipython3",
   "version": "3.6.5"
  }
 },
 "nbformat": 4,
 "nbformat_minor": 2
}
