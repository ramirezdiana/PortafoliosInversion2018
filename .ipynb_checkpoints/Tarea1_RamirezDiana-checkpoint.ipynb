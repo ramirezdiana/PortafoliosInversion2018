{
 "cells": [
  {
   "cell_type": "markdown",
   "metadata": {},
   "source": [
    "# Tarea 1"
   ]
  },
  {
   "cell_type": "markdown",
   "metadata": {},
   "source": [
    "### Presentación personal"
   ]
  },
  {
   "cell_type": "markdown",
   "metadata": {},
   "source": [
    "Mi nombre es Diana Laura Ramírez Hinojosa, estudio <span style=\"color:blue\"> *Ingeniería Financiera*</span>\n",
    ", voy en el quinto semestre. Aparte de estudiar, por ahora estoy trabajando como becaria en la universidad."
   ]
  },
  {
   "cell_type": "markdown",
   "metadata": {},
   "source": [
    "He vivido en Guadalajara toda mi vida, y a las escuelas a las que he asistido son las siguientes:\n",
    "\n",
    "Primaria                        | Secundaria            | Preparatoria | Licenciatura\n",
    "---------------------------------------- | ---------------------------------------\n",
    "![](http://www.centroinfantilunionamericana.com/wp-content/themes/ciua/img/index/logotipo-ciua.jpg) | ![](http://www.verdevalle.edu.mx/_/rsrc/1256615855985/config/app/images/customLogo/customLogo.gif?revision=9) | <img src=\"https://1.bp.blogspot.com/_wsOjLqdD3mg/SCSE8aCsTXI/AAAAAAAAABs/dvOmAnKQrRk/w1200-h630-p-k-no-nu/CediLogo06R_640.jpg\" width=\"200\">   | ![](https://www.iteso.mx/documents/27014/202031/Logo-ITESO-MinimoV.png)\n"
   ]
  },
  {
   "cell_type": "markdown",
   "metadata": {},
   "source": [
    "Desarrollé un gusto por el baile en secundaria, desde entonces y hasta hace un año, estuve en clases de:\n",
    "- Jazz\n",
    "- Ballet\n",
    "- Contemporáneo\n",
    "- Hiphop"
   ]
  },
  {
   "cell_type": "markdown",
   "metadata": {},
   "source": [
    "Me gusta mucho leer, mis tres libros favoritos son:\n",
    "\n",
    "1. La naranja mecánica\n",
    "1. Farenheit 451\n",
    "1. 1984"
   ]
  },
  {
   "cell_type": "markdown",
   "metadata": {},
   "source": [
    "### Resumen artículo de *The Economist*\n",
    "\n",
    "Link al artículo: [Python has brought computer programming to a vast new audience](https://www.economist.com/science-and-technology/2018/07/19/python-has-brought-computer-programming-to-a-vast-new-audience)"
   ]
  },
  {
   "cell_type": "markdown",
   "metadata": {},
   "source": [
    "A Dutch computer scientist wanted to create a new programming language with three characteristics:\n",
    "- Easy to read\n",
    "- Posibility to create coding modules\n",
    "- Interesting name\n",
    "\n",
    "<center>\n",
    "    <span style=\"color:brown\"> *...30 years later, Python is a mass consumption product*\n",
    "    </span>\n"
   ]
  },
  {
   "cell_type": "markdown",
   "metadata": {},
   "source": [
    "\n",
    "<img src=\"https://www.economist.com/sites/default/files/imagecache/640-width/images/print-edition/20180721_STC872.png\" width=\"220\">"
   ]
  },
  {
   "cell_type": "markdown",
   "metadata": {},
   "source": [
    "There are other coding languages that are better in some aspects. However, the simplicity of the syntax makes the difference from them. Nowadays many programmers, no matter their ocuppations, use Python as programming language (enterprises as Google, Pixar, CIA, and Spotify). Even Artificial Inteligence researches use it due to the posibility of creating neural networks.\n",
    "\n",
    "<img src=\"http://orig10.deviantart.net/6d95/f/2015/247/b/9/google_2015_logo_high_resolution_png_by_jovicasmileski-d98chn1.png\" width=\"200\">| <img src=\"http://1000logos.net/wp-content/uploads/2016/11/CIA-Logo.png\" width=\"200\">| <img src=\"http://1000logos.net/wp-content/uploads/2017/08/Pixar-emblem.jpg\" width=\"200\">| <img src=\"http://1000logos.net/wp-content/uploads/2017/08/Spotify-Logo.png\" width=\"200\">\n",
    "---------------------------------------- | ---------------------------------------\n",
    "\n",
    "If we do not want to go way too deep, there are other professions that use Python to decrease the use of spreadsheets, like banks. Also marketers, to build statistical models."
   ]
  },
  {
   "cell_type": "markdown",
   "metadata": {},
   "source": [
    "The main problem with Python, as stated by Cesar Brea is *\"someone who has learned a tool but doesn’t know what is going on under the hood\"*. And the solution involves teaching computer science since primary school, making possible for students outside of engineering to use this tool."
   ]
  }
 ],
 "metadata": {
  "kernelspec": {
   "display_name": "Python 3",
   "language": "python",
   "name": "python3"
  },
  "language_info": {
   "codemirror_mode": {
    "name": "ipython",
    "version": 3
   },
   "file_extension": ".py",
   "mimetype": "text/x-python",
   "name": "python",
   "nbconvert_exporter": "python",
   "pygments_lexer": "ipython3",
   "version": "3.6.5"
  }
 },
 "nbformat": 4,
 "nbformat_minor": 2
}
