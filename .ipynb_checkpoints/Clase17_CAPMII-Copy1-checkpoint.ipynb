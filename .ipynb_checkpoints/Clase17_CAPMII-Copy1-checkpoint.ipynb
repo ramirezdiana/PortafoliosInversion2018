{
 "cells": [
  {
   "cell_type": "markdown",
   "metadata": {},
   "source": [
    "# Estimando $\\beta$ de los activos"
   ]
  },
  {
   "cell_type": "markdown",
   "metadata": {},
   "source": [
    "## <font color=green> Conclusiones de la lectura. </font>"
   ]
  },
  {
   "cell_type": "markdown",
   "metadata": {},
   "source": [
    "<img style=\"float: right; margin: 0px 0px 15px 15px;\" src=\"https://upload.wikimedia.org/wikipedia/commons/4/48/Capital_market_line_of_CAPM.svg\" width=\"400px\" height=\"400px\" />\n",
    "\n",
    "En la clase anterior aprendimos \n",
    "- ¿qué es el CAPM?; \n",
    "- ¿cuáles son los supuestos sobre los que se funda el CAPM?;\n",
    "- derivamos la fórmula del CAPM; y\n",
    "- aprendimos como obtener la $beta$ de un portafolio a partir de la $beta$ de activos individuales.\n",
    "\n",
    "En la clase de hoy estudiaremos una forma de estimar los $\\beta$ de activos individuales.\n",
    "\n",
    "**Objetivos:**\n",
    "- Revisitar riesgo sistemático y no sistemático.\n",
    "- Estudiar un método para estimar las $\\beta$ de los activos.\n",
    "\n",
    "*Referencia:*\n",
    "- Notas del curso \"Portfolio Selection and Risk Management\", Rice University, disponible en Coursera.\n",
    "- [Notas del curso \"Financial Engineering\", Columbia University](http://www.columbia.edu/~ks20/FE-Notes/FE-Notes-Sigman.html)\n",
    "___"
   ]
  },
  {
   "cell_type": "markdown",
   "metadata": {},
   "source": [
    "## 1. Riesgo sistemático y no sistemático."
   ]
  },
  {
   "cell_type": "markdown",
   "metadata": {},
   "source": [
    "Recordamos la fórmula de CAPM:\n",
    "\n",
    "$$E[r_i]-r_f=\\beta_i(E[r_M]-r_f),$$\n",
    "\n",
    "donde $\\beta_i=\\frac{\\sigma_{M,i}}{\\sigma_M^2}$ y $\\sigma_{M,i}$ es la covarianza del portafolio de mercado con el activo individual $i$."
   ]
  },
  {
   "cell_type": "markdown",
   "metadata": {},
   "source": [
    "Todas las anteriores son variables determinísiticas.\n",
    "\n",
    "- ¿Qué pasa si usamos el CAPM como un modelo de rendimientos? Es decir,\n",
    "\n",
    "$$r_i=r_f+\\beta_i(r_M-r_f)+\\epsilon_i,$$\n",
    "\n",
    "donde $\\epsilon_i$ es un término de error."
   ]
  },
  {
   "cell_type": "markdown",
   "metadata": {},
   "source": [
    "<font color=green> Despejando $\\epsilon_i$, tenemos que: </font>\n",
    "\n",
    "- $E[\\epsilon_i]=0$, y\n",
    "- $cov(\\epsilon_i,r_M)=0$.\n",
    "\n",
    "<font color=green> Ver en el tablero. </font>"
   ]
  },
  {
   "cell_type": "markdown",
   "metadata": {},
   "source": [
    "Entonces, la varianza del activo $i$ es:\n",
    "\n",
    "$$\\sigma_i=\\beta_i^2\\sigma_M^2+var(\\epsilon_i),$$\n",
    "\n",
    "donde el primer término corresponde al riesgo sistemático (de mercado) y el segundo al riesgo idiosincrático.\n",
    "___"
   ]
  },
  {
   "cell_type": "markdown",
   "metadata": {},
   "source": [
    "## 2. Estimando $\\beta$ para un activo."
   ]
  },
  {
   "cell_type": "markdown",
   "metadata": {},
   "source": [
    "- En el mercado real, la cantidad de activos es ENORME, y tratar de construir el portafolio de mercado sería una tarea grandiosa, pero poco realista para un analista financiero. \n",
    "- Por lo tanto, los índices de mercado han sido creados para intentar aproximar el portafolio de mercado.\n",
    "- Dicho índice es un portafolio más pequeño que el de mercado, construido por los que se consideran los activos más dominantes, y que capturan la esencia de el portafolio de mercado."
   ]
  },
  {
   "cell_type": "markdown",
   "metadata": {},
   "source": [
    "- El índice de mercado más conocido es el Standard & Poor’s 500-stock index (S&P), compuesto de 500 activos.\n",
    "- Un $\\beta$ para un activo dado, se puede estimar utilizando el S&P en reemplazo de M, y utilizando datos históricos para ambos rendimientos (el del activo y el del S&P500).\n",
    "- Por ejemplo, considere un activo $i$ para el cual queremos estimar su $\\beta_i$.\n",
    "- Este estimado se construye usando medias, varianzas y covarianzas muestrales como sigue:\n",
    " - Escogemos $N$ rendimientos históricos, tales como los reportados mensualmente hace tres años.\n",
    " - Para $k=1,2,\\dots,N$, $r_{ik}$ y $r_{S\\&Pk}$ denotan el $k-$ésimo valor muestral de los rendimietos.\n",
    "\n",
    "Entonces\n",
    "\n",
    "$$\\hat{E[r_i]}=\\frac{1}{N}\\sum_{k=1}^{N}r_{ik}, \\text{ y}$$\n",
    "\n",
    "$$\\hat{E[r_{S\\&P}]}=\\frac{1}{N}\\sum_{k=1}^{N}r_{S\\&Pk}.$$"
   ]
  },
  {
   "cell_type": "markdown",
   "metadata": {},
   "source": [
    "Además, la varianza $\\sigma_{S\\&P}^2$ se estima como\n",
    "\n",
    "$$\\hat{\\sigma_{S\\&P}^2}=\\frac{1}{N-1}\\sum_{k=1}^{N}(r_{S\\&Pk}-\\hat{E[r_{S\\&P}]})^2,$$\n",
    "\n",
    "y la covarianza $\\sigma_{S\\&P,i}$\n",
    "\n",
    "$$\\hat{\\sigma_{S\\&P,i}}=\\frac{1}{N-1}\\sum_{k=1}^{N}(r_{S\\&Pk}-\\hat{E[r_{S\\&P}]})(r_{ik}-\\hat{E[r_i]})$$"
   ]
  },
  {
   "cell_type": "markdown",
   "metadata": {},
   "source": [
    "Finalmente, \n",
    "\n",
    "$$\\hat{\\beta_i}=\\frac{\\hat{\\sigma_{S\\&P,i}}}{\\hat{\\sigma_{S\\&P}^2}}.$$"
   ]
  },
  {
   "cell_type": "markdown",
   "metadata": {},
   "source": [
    "### Ejemplo...\n",
    "\n",
    "Entrar a yahoo finance, a la información de MSFT, AAPL, GCARSOA1.MX y ^GSPC."
   ]
  },
  {
   "cell_type": "code",
   "execution_count": 1,
   "metadata": {},
   "outputs": [],
   "source": [
    "# Importar paquetes\n",
    "import numpy as np\n",
    "import matplotlib.pyplot as plt\n",
    "%matplotlib inline\n",
    "import pandas as pd\n",
    "pd.core.common.is_list_like = pd.api.types.is_list_like\n",
    "import pandas_datareader.data as web"
   ]
  },
  {
   "cell_type": "code",
   "execution_count": 2,
   "metadata": {},
   "outputs": [],
   "source": [
    "# Función para descargar precios de cierre ajustados de varios activos a la vez:\n",
    "def get_closes(tickers, start_date=None, end_date=None, freq=None):\n",
    "    # Fecha inicio por defecto (start_date='2010-01-01') y fecha fin por defecto (end_date=today)\n",
    "    # Frecuencia de muestreo por defecto (freq='d')\n",
    "    # Importamos paquetes necesarios\n",
    "    import pandas as pd\n",
    "    pd.core.common.is_list_like = pd.api.types.is_list_like\n",
    "    import pandas_datareader.data as web  \n",
    "    # Creamos DataFrame vacío de precios, con el índice de las fechas\n",
    "    closes = pd.DataFrame(columns = tickers, index=web.YahooDailyReader(symbols=tickers[0], start=start_date, end=end_date, interval=freq).read().index)\n",
    "    # Agregamos cada uno de los precios con YahooDailyReader\n",
    "    for ticker in tickers:\n",
    "        df = web.YahooDailyReader(symbols=ticker, start=start_date, end=end_date, interval=freq).read()\n",
    "        closes[ticker]=df['Adj Close']\n",
    "    closes.index_name = 'Date'\n",
    "    closes = closes.sort_index()\n",
    "    return closes"
   ]
  },
  {
   "cell_type": "code",
   "execution_count": 14,
   "metadata": {},
   "outputs": [],
   "source": [
    "# Importar datos de AAPL, MSFT, GCARSOA1.MX, y ^GSPC\n"
   ]
  },
  {
   "cell_type": "code",
   "execution_count": 22,
   "metadata": {
    "scrolled": true
   },
   "outputs": [],
   "source": [
    "# Precios mensuales\n"
   ]
  },
  {
   "cell_type": "code",
   "execution_count": 23,
   "metadata": {
    "scrolled": true
   },
   "outputs": [],
   "source": [
    "# Rendimientos mensuales\n"
   ]
  },
  {
   "cell_type": "code",
   "execution_count": 24,
   "metadata": {},
   "outputs": [],
   "source": [
    "# Matriz de covarianza\n"
   ]
  },
  {
   "cell_type": "code",
   "execution_count": 25,
   "metadata": {},
   "outputs": [],
   "source": [
    "# Beta de Microsoft\n"
   ]
  },
  {
   "cell_type": "code",
   "execution_count": 26,
   "metadata": {},
   "outputs": [],
   "source": [
    "# Beta de Apple\n"
   ]
  },
  {
   "cell_type": "code",
   "execution_count": 27,
   "metadata": {},
   "outputs": [],
   "source": [
    "# Beta de Grupo Carso\n"
   ]
  },
  {
   "cell_type": "markdown",
   "metadata": {},
   "source": [
    "**Conclusiones**\n",
    "\n",
    "[Índice para México](https://espanol.spindices.com/indices/equity/sp-bmv-ipc)"
   ]
  },
  {
   "cell_type": "markdown",
   "metadata": {},
   "source": [
    "# Anuncios parroquiales\n",
    "\n",
    "## 1. Último quiz la próxima clase.\n",
    "## 2. Próxima clase: asesoría de proyectos."
   ]
  },
  {
   "cell_type": "markdown",
   "metadata": {},
   "source": [
    "<script>\n",
    "  $(document).ready(function(){\n",
    "    $('div.prompt').hide();\n",
    "    $('div.back-to-top').hide();\n",
    "    $('nav#menubar').hide();\n",
    "    $('.breadcrumb').hide();\n",
    "    $('.hidden-print').hide();\n",
    "  });\n",
    "</script>\n",
    "\n",
    "<footer id=\"attribution\" style=\"float:right; color:#808080; background:#fff;\">\n",
    "Created with Jupyter by Esteban Jiménez Rodríguez.\n",
    "</footer>"
   ]
  }
 ],
 "metadata": {
  "kernelspec": {
   "display_name": "Python 3",
   "language": "python",
   "name": "python3"
  },
  "language_info": {
   "codemirror_mode": {
    "name": "ipython",
    "version": 3
   },
   "file_extension": ".py",
   "mimetype": "text/x-python",
   "name": "python",
   "nbconvert_exporter": "python",
   "pygments_lexer": "ipython3",
   "version": "3.6.5"
  }
 },
 "nbformat": 4,
 "nbformat_minor": 2
}
